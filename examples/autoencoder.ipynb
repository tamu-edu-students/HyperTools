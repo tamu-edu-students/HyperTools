{
  "cells": [
    {
      "cell_type": "code",
      "execution_count": null,
      "metadata": {
        "id": "1zDUc2ORV9Fn"
      },
      "outputs": [],
      "source": [
        "import matplotlib.pyplot as plt\n",
        "import numpy as np\n",
        "import pandas as pd\n",
        "import torch\n",
        "\n",
        "from sklearn.metrics import accuracy_score, precision_score, recall_score\n",
        "from sklearn.model_selection import train_test_split\n",
        "\n",
        "import torch\n",
        "from torchvision import datasets\n",
        "from torchvision import transforms\n",
        "import matplotlib.pyplot as plt\n",
        "from torch.utils.data import Dataset, DataLoader\n",
        "\n",
        "import os\n",
        "import cv2"
      ]
    },
    {
      "cell_type": "code",
      "execution_count": null,
      "metadata": {
        "id": "zIcdTkvNjKyO"
      },
      "outputs": [],
      "source": [
        "\n",
        "\n",
        "class SpectralDataset(Dataset):\n",
        "    def __init__(self, data):\n",
        "        self.data = torch.tensor(data, dtype=torch.float32)\n",
        "\n",
        "    def __getitem__(self, index):\n",
        "        return self.data[index]\n",
        "\n",
        "    def __len__(self):\n",
        "        return len(self.data)\n",
        "    \n",
        "    \n",
        "class Scale(torch.nn.Module):\n",
        "    def forward(self, input):\n",
        "        return input * 255\n",
        "        \n",
        "# Creating a PyTorch class\n",
        "# 28*28 ==> 9 ==> 28*28\n",
        "class spectral_AE(torch.nn.Module):\n",
        "    def __init__(self):\n",
        "        super().__init__()\n",
        "\n",
        "        # Building an linear encoder with Linear\n",
        "        # layer followed by Relu activation function\n",
        "        # 140 ==> 3\n",
        "        self.encoder = torch.nn.Sequential(\n",
        "            torch.nn.Linear(hyper_2d.shape[1], 64),\n",
        "            torch.nn.ReLU(),\n",
        "            torch.nn.Linear(64, 32),\n",
        "            torch.nn.ReLU(),\n",
        "            torch.nn.Linear(32, 16),\n",
        "            torch.nn.ReLU(),\n",
        "            torch.nn.Linear(16, 8),\n",
        "            torch.nn.ReLU(),\n",
        "            torch.nn.Linear(8, 3),\n",
        "            torch.nn.Hardtanh(min_val=0, max_val=255) # want a known range for visualization and bounding \n",
        "        )\n",
        "\n",
        "        # Building an linear decoder with Linear\n",
        "        # layer followed by Relu activation function\n",
        "        # The Sigmoid activation function\n",
        "        # outputs the value between 0 and 1\n",
        "        # 3 ==> 140\n",
        "        self.decoder = torch.nn.Sequential(\n",
        "            torch.nn.Linear(3, 8),\n",
        "            torch.nn.ReLU(),\n",
        "            torch.nn.Linear(8, 16),\n",
        "            torch.nn.ReLU(),\n",
        "            torch.nn.Linear(16, 32),\n",
        "            torch.nn.ReLU(),\n",
        "            torch.nn.Linear(32, 64),\n",
        "            torch.nn.ReLU(),\n",
        "            torch.nn.Linear(64, hyper_2d.shape[1]),\n",
        "            torch.nn.Sigmoid()\n",
        "        )\n",
        "\n",
        "    def forward(self, x):\n",
        "        encoded = self.encoder(x)\n",
        "        decoded = self.decoder(encoded)\n",
        "        return decoded    \n",
        "\n",
        "def load_hsi(file_name):\n",
        "    # load hyperspectral image\n",
        "    _, extension = os.path.splitext(file_name)\n",
        "\n",
        "    if extension == '.tiff':\n",
        "        #below is a way to load hyperspectral images that are tiff files\n",
        "        mylist = []\n",
        "        loaded,mylist = cv2.imreadmulti(mats = mylist, filename = file_name, flags = cv2.IMREAD_ANYCOLOR )\n",
        "        cube=np.array(mylist)\n",
        "        cube = cube[:, :, :]\n",
        "    else :\n",
        "        print(\"Error: file type not supported\")\n",
        "        return\n",
        "    return cube"
      ]
    },
    {
      "cell_type": "code",
      "execution_count": null,
      "metadata": {
        "colab": {
          "base_uri": "https://localhost:8080/"
        },
        "id": "mLp5zKbCFObF",
        "outputId": "4e7cce23-4f35-4bf1-876e-2e5deeaebf00"
      },
      "outputs": [],
      "source": [
        "hyperImage = load_hsi('../../HyperImages/img1.tiff')\n",
        "\n",
        "print(hyperImage.shape)\n",
        "hyper_result = np.transpose(hyperImage, (2, 1, 0))\n",
        "print(hyper_result.shape)\n",
        "#hyper_2d = hyper_result.reshape(hyper_result[0] * hyper_result[1], hyper_result[2])\n",
        "new_shape_first_dim = hyper_result.shape[0] * hyper_result.shape[1]\n",
        "hyper_2d = hyper_result.reshape((new_shape_first_dim, hyper_result.shape[2]))\n",
        "print(hyper_2d.shape)"
      ]
    },
    {
      "cell_type": "code",
      "execution_count": null,
      "metadata": {},
      "outputs": [],
      "source": [
        "spectral_dataset = SpectralDataset(hyper_2d)\n",
        "spectral_loader = DataLoader(spectral_dataset, batch_size=2048, shuffle=True)\n",
        "\n",
        "spectral_train_data, spectral_test_data = train_test_split(\n",
        "    spectral_dataset,  test_size=0.3, random_state=21\n",
        ")\n",
        "\n",
        "min_val = torch.min(torch.from_numpy(hyper_2d))\n",
        "max_val = torch.max(torch.from_numpy(hyper_2d))\n",
        "\n",
        "# spectral_train_data = ((torch.from_numpy(spectral_train_data) - min_val) / (max_val - min_val)).float()\n",
        "# spectral_test_data = ((torch.from_numpy(spectral_test_data) - min_val) / (max_val - min_val)).float()\n",
        "\n",
        "# Normalize each Tensor in the list\n",
        "spectral_train_data = [(data - min_val) / (max_val - min_val) for data in spectral_train_data]\n",
        "spectral_test_data = [(data - min_val) / (max_val - min_val) for data in spectral_test_data]\n",
        "\n",
        "# Convert the list of Tensors to a single Tensor\n",
        "spectral_train_data = torch.stack(spectral_train_data).float()\n",
        "spectral_test_data = torch.stack(spectral_test_data).float()\n",
        "\n",
        "\n"
      ]
    },
    {
      "cell_type": "code",
      "execution_count": null,
      "metadata": {},
      "outputs": [],
      "source": [
        "# plt.grid()\n",
        "# plt.plot(np.arange(hyper_2d.shape[1]), spectral_train_data[0])\n",
        "# plt.title(\"A Sample curve\")\n",
        "# plt.show()"
      ]
    },
    {
      "cell_type": "code",
      "execution_count": null,
      "metadata": {},
      "outputs": [],
      "source": [
        "spectral_model = spectral_AE()\n",
        "train_loader = DataLoader(spectral_train_data, batch_size=16384, shuffle=True)\n",
        "test_loader = DataLoader(spectral_test_data, batch_size=16384)\n"
      ]
    },
    {
      "cell_type": "code",
      "execution_count": null,
      "metadata": {},
      "outputs": [],
      "source": [
        "loss_function = torch.nn.L1Loss()\n",
        "criterion = torch.nn.MSELoss()\n",
        "device  = torch.device('cuda' if torch.cuda.is_available() else 'cpu')\n",
        "# print (device)\n",
        "spectral_model = spectral_model.to(device)\n",
        "optimizer = torch.optim.Adam(spectral_model.parameters(),\n",
        "                             lr = 1e-4,\n",
        "                             weight_decay = 1e-5)\n",
        "\n",
        "epochs = 20\n",
        "history_loss_train = []\n",
        "history_loss_val = []\n",
        "for epoch in range(epochs):\n",
        "    spectral_model.train()\n",
        "    for inputs in train_loader:\n",
        "        inputs = inputs.to(device)\n",
        "        outputs = spectral_model(inputs)\n",
        "        loss = criterion(outputs, inputs)\n",
        "\n",
        "        optimizer.zero_grad()\n",
        "        loss.backward()\n",
        "        optimizer.step()\n",
        "\n",
        "    spectral_model.eval()\n",
        "    with torch.no_grad():\n",
        "        for inputs in test_loader:\n",
        "            inputs = inputs.to(device)\n",
        "            outputs = spectral_model(inputs)\n",
        "            val_loss = criterion(outputs, inputs)\n",
        "    history_loss_train.append(loss.item())\n",
        "    history_loss_val.append(val_loss.item())\n",
        "    print(f'Epoch {epoch+1}/{epochs}, Loss: {loss.item()}, Validation Loss: {val_loss.item()}')"
      ]
    },
    {
      "cell_type": "code",
      "execution_count": null,
      "metadata": {},
      "outputs": [],
      "source": [
        "plt.plot(history_loss_train, label=\"Training Loss\")\n",
        "plt.plot(history_loss_val, label=\"Validation Loss\")\n",
        "plt.legend()\n"
      ]
    },
    {
      "cell_type": "code",
      "execution_count": null,
      "metadata": {},
      "outputs": [],
      "source": [
        "spectral_test_data = spectral_test_data.to(device)\n",
        "\n",
        "encoded_data = spectral_model.encoder(spectral_test_data).detach().cpu().numpy()\n",
        "decoded_data = spectral_model.decoder(torch.from_numpy(encoded_data).to(device)).detach().cpu().numpy()\n"
      ]
    },
    {
      "cell_type": "code",
      "execution_count": null,
      "metadata": {},
      "outputs": [],
      "source": [
        "test_index=0\n",
        "\n",
        "spectral_test_data_np = spectral_test_data.cpu().numpy()\n",
        "\n",
        "\n",
        "plt.plot(spectral_test_data_np[test_index], 'b')\n",
        "plt.plot(decoded_data[test_index], 'r')\n",
        "plt.fill_between(np.arange(hyper_2d.shape[1]), decoded_data[test_index], spectral_test_data_np[test_index], color='lightcoral')\n",
        "plt.legend(labels=[\"Input\", \"Reconstruction\", \"Error\"])\n",
        "plt.show()\n"
      ]
    },
    {
      "cell_type": "code",
      "execution_count": null,
      "metadata": {},
      "outputs": [],
      "source": [
        "\n",
        "print(hyperImage.shape)\n",
        "hyperImage_reshaped = np.transpose(hyperImage, (1, 2, 0))  # Reshape hyperImage before encoding\n",
        "hyperImage_reshaped = hyperImage_reshaped.reshape((new_shape_first_dim, -1))  # Keep the second dimension flexible\n",
        "hyper_2d_tensor = torch.from_numpy(hyperImage_reshaped).float().to(device)\n",
        "encoded_data = spectral_model.encoder(hyper_2d_tensor).detach().cpu().numpy()\n",
        "print(encoded_data.shape)\n",
        "print(hyperImage.shape)\n",
        "encoded_data_reshaped = encoded_data.reshape(1886,1886,3)\n",
        "\n",
        "plt.figure(figsize=(15, 5))\n",
        "# print(np.min(encoded_data_reshaped))\n",
        "# print(np.max(encoded_data_reshaped))\n",
        "# encoded_data_reshaped2 = encoded_data_reshaped- np.min(encoded_data_reshaped)\n",
        "# encoded_data_reshaped2 = encoded_data_reshaped2/(np.max(encoded_data_reshaped)-np.min(encoded_data_reshaped))\n",
        "# print(np.min(encoded_data_reshaped2))\n",
        "# print(np.max(encoded_data_reshaped2))\n",
        "encoded_data_reshaped2 = encoded_data_reshaped /255\n",
        "print(encoded_data.dtype, encoded_data_reshaped2.dtype)\n",
        "\n",
        "\n",
        "plt.subplot(1, 4, 1)\n",
        "plt.imshow(encoded_data_reshaped2[:,:,0], cmap='gray')\n",
        "plt.title('Channel 1')\n",
        "\n",
        "\n",
        "\n",
        "plt.subplot(1, 4, 2)\n",
        "plt.imshow(encoded_data_reshaped2[:,:,1], cmap='gray')\n",
        "plt.title('Channel 2')\n",
        "\n",
        "plt.subplot(1, 4, 3)\n",
        "plt.imshow(encoded_data_reshaped2[:,:,2], cmap='gray')\n",
        "plt.title('Channel 3')\n",
        "\n",
        "plt.subplot(1, 4, 4)\n",
        "plt.imshow(encoded_data_reshaped2)\n",
        "plt.title('Channel 4 RGB')\n",
        "\n",
        "plt.show()\n",
        "\n",
        "\n"
      ]
    },
    {
      "cell_type": "code",
      "execution_count": null,
      "metadata": {},
      "outputs": [],
      "source": [
        "print(np.min(encoded_data_reshaped2[:,:,0]))\n",
        "print(np.max(encoded_data_reshaped2[:,:,2]))\n",
        "# Flatten the data to 1D\n",
        "data_flattened = encoded_data_reshaped2[:,:,2].flatten()\n",
        "\n",
        "# Create a histogram\n",
        "plt.hist(data_flattened, bins=50)\n",
        "\n",
        "# Show the plot\n",
        "plt.show()"
      ]
    },
    {
      "cell_type": "code",
      "execution_count": null,
      "metadata": {},
      "outputs": [],
      "source": [
        "# torch.save(spectral_model.state_dict(), '/workspaces/HyperTools/spectral_model_norm.pth')"
      ]
    }
  ],
  "metadata": {
    "accelerator": "GPU",
    "colab": {
      "gpuType": "T4",
      "provenance": []
    },
    "kernelspec": {
      "display_name": "Python 3 (ipykernel)",
      "language": "python",
      "name": "python3"
    },
    "language_info": {
      "codemirror_mode": {
        "name": "ipython",
        "version": 3
      },
      "file_extension": ".py",
      "mimetype": "text/x-python",
      "name": "python",
      "nbconvert_exporter": "python",
      "pygments_lexer": "ipython3",
      "version": "3.9.18"
    }
  },
  "nbformat": 4,
  "nbformat_minor": 0
}
